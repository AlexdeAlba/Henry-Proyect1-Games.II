{
 "cells": [
  {
   "cell_type": "markdown",
   "metadata": {},
   "source": [
    "# Funciones\n",
    "### creando las funciones"
   ]
  },
  {
   "cell_type": "markdown",
   "metadata": {},
   "source": [
    "Los archivos que tenemos para esta funciones son:\n",
    "\n",
    "|Num|funcion | archivo|\n",
    "|---|---|---|\n",
    "|1.|PlayTimeGenre()|genre_playtime.csv|\n",
    "|2.|UserForGenre()|jugador_masminutos.csv|\n",
    "|3.|UsersRecommend()|top_reviews3.csv|\n",
    "|4.|UsersNotRecommend()|top_reviews4.csv|\n",
    "|5.|def sentiment_analysis(|SetimientoxAño.csv|"
   ]
  },
  {
   "cell_type": "code",
   "execution_count": 52,
   "metadata": {},
   "outputs": [],
   "source": [
    "import pandas as pd\n",
    "\n",
    "f_playtimegenre = 'data//genre_playtime.csv'\n",
    "f_userforgenre = 'data//jugador_masminutos.csv'\n",
    "f_usersrecommend = 'data//top_reviews3.csv'\n",
    "f_usernotrecommend = 'data//top_reviews4.csv'\n",
    "f_sentiment = 'data//SentimientoxAño.csv'"
   ]
  },
  {
   "cell_type": "markdown",
   "metadata": {},
   "source": [
    "# 1. def PlayTimeGenre(genero:STR)"
   ]
  },
  {
   "cell_type": "markdown",
   "metadata": {},
   "source": [
    "Debe devolver año con mas horas jugadas para dicho género.\n",
    "- Ejemplo de retorno: {“Año de lanzamiento con más horas jugadas para Género X” : 2013}"
   ]
  },
  {
   "cell_type": "code",
   "execution_count": 24,
   "metadata": {},
   "outputs": [
    {
     "name": "stdout",
     "output_type": "stream",
     "text": [
      "Numero de registros:  848\n"
     ]
    },
    {
     "data": {
      "text/html": [
       "<div>\n",
       "<style scoped>\n",
       "    .dataframe tbody tr th:only-of-type {\n",
       "        vertical-align: middle;\n",
       "    }\n",
       "\n",
       "    .dataframe tbody tr th {\n",
       "        vertical-align: top;\n",
       "    }\n",
       "\n",
       "    .dataframe thead th {\n",
       "        text-align: right;\n",
       "    }\n",
       "</style>\n",
       "<table border=\"1\" class=\"dataframe\">\n",
       "  <thead>\n",
       "    <tr style=\"text-align: right;\">\n",
       "      <th></th>\n",
       "      <th>year</th>\n",
       "      <th>genres</th>\n",
       "      <th>hrs_jugadas</th>\n",
       "    </tr>\n",
       "  </thead>\n",
       "  <tbody>\n",
       "    <tr>\n",
       "      <th>0</th>\n",
       "      <td>1983</td>\n",
       "      <td>adventure</td>\n",
       "      <td>3582</td>\n",
       "    </tr>\n",
       "    <tr>\n",
       "      <th>1</th>\n",
       "      <td>1983</td>\n",
       "      <td>casual</td>\n",
       "      <td>3582</td>\n",
       "    </tr>\n",
       "    <tr>\n",
       "      <th>2</th>\n",
       "      <td>1983</td>\n",
       "      <td>action</td>\n",
       "      <td>3582</td>\n",
       "    </tr>\n",
       "    <tr>\n",
       "      <th>3</th>\n",
       "      <td>1984</td>\n",
       "      <td>adventure</td>\n",
       "      <td>384</td>\n",
       "    </tr>\n",
       "    <tr>\n",
       "      <th>4</th>\n",
       "      <td>1984</td>\n",
       "      <td>casual</td>\n",
       "      <td>384</td>\n",
       "    </tr>\n",
       "  </tbody>\n",
       "</table>\n",
       "</div>"
      ],
      "text/plain": [
       "   year     genres  hrs_jugadas\n",
       "0  1983  adventure         3582\n",
       "1  1983     casual         3582\n",
       "2  1983     action         3582\n",
       "3  1984  adventure          384\n",
       "4  1984     casual          384"
      ]
     },
     "execution_count": 24,
     "metadata": {},
     "output_type": "execute_result"
    }
   ],
   "source": [
    "df1 = pd.read_csv(f_playtimegenre)\n",
    "total = len(df1)\n",
    "print(\"Numero de registros: \",total)\n",
    "df1.head()\n",
    "\n",
    "#def PlayTimeGenre(genero:STR)    "
   ]
  },
  {
   "cell_type": "code",
   "execution_count": 23,
   "metadata": {},
   "outputs": [
    {
     "name": "stdout",
     "output_type": "stream",
     "text": [
      "Año de lanzamiento con más horas jugadas para el género Action : 2012\n"
     ]
    }
   ],
   "source": [
    "def PlayTimeGenre(genero):\n",
    "    # Cambio a minúsculas\n",
    "    genero = genero.lower()\n",
    "    filtro = df1[df1['genres'] == genero]\n",
    "    \n",
    "    if filtro.empty:\n",
    "        return -1\n",
    "    else:\n",
    "        ano_con_mas_horas = filtro.loc[filtro['hrs_jugadas'].idxmax()]['year']\n",
    "        return ano_con_mas_horas\n",
    "\n",
    "genero = \"Action\"\n",
    "\n",
    "year = PlayTimeGenre(genero)\n",
    "\n",
    "if year != -1:\n",
    "    print(f'Año de lanzamiento con más horas jugadas para el género {genero} : {year}')\n",
    "else:\n",
    "    print(f\"No existen registros para el género '{genero}'\")\n",
    "\n"
   ]
  },
  {
   "cell_type": "markdown",
   "metadata": {},
   "source": [
    "# 2.- def UserForGenre( genero : str )\n",
    "Debe devolver el usuario que acumula más horas jugadas para el género dado y una lista de la acumulación de horas jugadas por año.\n",
    "\n",
    "- Ejemplo de retorno: {“Usuario con más horas jugadas para Género X” : us213ndjss09sdf, “Horas jugadas”:[{Año: 2013, Horas: 203}, {Año: 2012, Horas: 100}, {Año: 2011, Horas: 23}]}"
   ]
  },
  {
   "cell_type": "code",
   "execution_count": 28,
   "metadata": {},
   "outputs": [
    {
     "data": {
      "text/html": [
       "<div>\n",
       "<style scoped>\n",
       "    .dataframe tbody tr th:only-of-type {\n",
       "        vertical-align: middle;\n",
       "    }\n",
       "\n",
       "    .dataframe tbody tr th {\n",
       "        vertical-align: top;\n",
       "    }\n",
       "\n",
       "    .dataframe thead th {\n",
       "        text-align: right;\n",
       "    }\n",
       "</style>\n",
       "<table border=\"1\" class=\"dataframe\">\n",
       "  <thead>\n",
       "    <tr style=\"text-align: right;\">\n",
       "      <th></th>\n",
       "      <th>user_id</th>\n",
       "      <th>genres</th>\n",
       "      <th>year</th>\n",
       "      <th>min_jugados</th>\n",
       "      <th>total_min</th>\n",
       "    </tr>\n",
       "  </thead>\n",
       "  <tbody>\n",
       "    <tr>\n",
       "      <th>0</th>\n",
       "      <td>rebas_as_f-t</td>\n",
       "      <td>action</td>\n",
       "      <td>1998</td>\n",
       "      <td>2</td>\n",
       "      <td>9565845</td>\n",
       "    </tr>\n",
       "    <tr>\n",
       "      <th>1</th>\n",
       "      <td>rebas_as_f-t</td>\n",
       "      <td>strategy</td>\n",
       "      <td>1999</td>\n",
       "      <td>1</td>\n",
       "      <td>9565845</td>\n",
       "    </tr>\n",
       "  </tbody>\n",
       "</table>\n",
       "</div>"
      ],
      "text/plain": [
       "        user_id    genres  year  min_jugados  total_min\n",
       "0  rebas_as_f-t    action  1998            2    9565845\n",
       "1  rebas_as_f-t  strategy  1999            1    9565845"
      ]
     },
     "execution_count": 28,
     "metadata": {},
     "output_type": "execute_result"
    }
   ],
   "source": [
    "df2 = pd.read_csv(f_userforgenre)\n",
    "df2.head(2)"
   ]
  },
  {
   "cell_type": "code",
   "execution_count": 33,
   "metadata": {},
   "outputs": [
    {
     "name": "stdout",
     "output_type": "stream",
     "text": [
      "{'Usuario con más horas jugadas para Género Action': 'rebas_as_f-t', 'Horas jugadas': [{'Año': 1998, 'Horas': 2}, {'Año': 1999, 'Horas': 225}, {'Año': 2001, 'Horas': 11}, {'Año': 2002, 'Horas': 1}, {'Año': 2003, 'Horas': 1863}, {'Año': 2004, 'Horas': 2115}, {'Año': 2005, 'Horas': 3293}, {'Año': 2006, 'Horas': 138}, {'Año': 2007, 'Horas': 684}, {'Año': 2008, 'Horas': 3791}, {'Año': 2009, 'Horas': 26635}, {'Año': 2010, 'Horas': 52421}, {'Año': 2011, 'Horas': 72495}, {'Año': 2012, 'Horas': 138087}, {'Año': 2013, 'Horas': 180725}, {'Año': 2014, 'Horas': 267280}, {'Año': 2015, 'Horas': 302997}, {'Año': 2016, 'Horas': 391863}, {'Año': 2017, 'Horas': 3716}]}\n"
     ]
    }
   ],
   "source": [
    "import pandas as pd\n",
    "\n",
    "def UserForGenre(genero):\n",
    "    gen = genero\n",
    "    genero = genero.lower()\n",
    "    # Filtrar las filas que corresponden al género dado\n",
    "    filtro = df2[df2['genres'] == genero]\n",
    "    \n",
    "    if filtro.empty:\n",
    "        return None  # No hay registros para el género dado\n",
    "    \n",
    "    # Encontrar al usuario con más horas jugadas\n",
    "    usuario_max_horas = filtro.loc[filtro['total_min'].idxmax()]['user_id']\n",
    "    \n",
    "    # Crear una lista de acumulación de horas jugadas por año\n",
    "    acumulacion_horas = []\n",
    "    for año, grupo in filtro.groupby('year'):\n",
    "        horas_año = grupo['min_jugados'].sum()\n",
    "        acumulacion_horas.append({'Año': año, 'Horas': horas_año})\n",
    "    \n",
    "    # Crear el resultado en un diccionario\n",
    "    resultado = {f\"Usuario con más horas jugadas para Género {gen}\": usuario_max_horas, \"Horas jugadas\": acumulacion_horas}\n",
    "    return resultado\n",
    "\n",
    "\n",
    "\n",
    "# Ejemplo de uso\n",
    "\n",
    "\n",
    "genero = \"Action\"\n",
    "resultado = UserForGenre(genero)\n",
    "print(resultado)\n"
   ]
  },
  {
   "cell_type": "markdown",
   "metadata": {},
   "source": [
    "# 3. def UsersRecommend( año : int ): \n",
    "Devuelve el top 3 de juegos MÁS recomendados por usuarios para el año dado. (reviews.recommend = True y comentarios positivos/neutrales)\n",
    "- Ejemplo de retorno: [{“Puesto 1” : X}, {“Puesto 2” : Y},{“Puesto 3” : Z}]\n",
    "    "
   ]
  },
  {
   "cell_type": "code",
   "execution_count": 35,
   "metadata": {},
   "outputs": [
    {
     "data": {
      "text/html": [
       "<div>\n",
       "<style scoped>\n",
       "    .dataframe tbody tr th:only-of-type {\n",
       "        vertical-align: middle;\n",
       "    }\n",
       "\n",
       "    .dataframe tbody tr th {\n",
       "        vertical-align: top;\n",
       "    }\n",
       "\n",
       "    .dataframe thead th {\n",
       "        text-align: right;\n",
       "    }\n",
       "</style>\n",
       "<table border=\"1\" class=\"dataframe\">\n",
       "  <thead>\n",
       "    <tr style=\"text-align: right;\">\n",
       "      <th></th>\n",
       "      <th>item_id</th>\n",
       "      <th>title</th>\n",
       "      <th>year</th>\n",
       "      <th>total_review</th>\n",
       "    </tr>\n",
       "  </thead>\n",
       "  <tbody>\n",
       "    <tr>\n",
       "      <th>0</th>\n",
       "      <td>440</td>\n",
       "      <td>team fortress 2</td>\n",
       "      <td>2010</td>\n",
       "      <td>20</td>\n",
       "    </tr>\n",
       "    <tr>\n",
       "      <th>1</th>\n",
       "      <td>1250</td>\n",
       "      <td>killing floor</td>\n",
       "      <td>2010</td>\n",
       "      <td>6</td>\n",
       "    </tr>\n",
       "    <tr>\n",
       "      <th>2</th>\n",
       "      <td>4000</td>\n",
       "      <td>garry's mod</td>\n",
       "      <td>2010</td>\n",
       "      <td>6</td>\n",
       "    </tr>\n",
       "  </tbody>\n",
       "</table>\n",
       "</div>"
      ],
      "text/plain": [
       "   item_id            title  year  total_review\n",
       "0      440  team fortress 2  2010            20\n",
       "1     1250    killing floor  2010             6\n",
       "2     4000      garry's mod  2010             6"
      ]
     },
     "execution_count": 35,
     "metadata": {},
     "output_type": "execute_result"
    }
   ],
   "source": [
    "df3 = pd.read_csv(f_usersrecommend)\n",
    "df3.head(3)"
   ]
  },
  {
   "cell_type": "code",
   "execution_count": 38,
   "metadata": {},
   "outputs": [
    {
     "name": "stdout",
     "output_type": "stream",
     "text": [
      "[{'Puesto 1': 'team fortress 2'}, {'Puesto 2': \"garry's mod\"}, {'Puesto 3': 'terraria'}]\n"
     ]
    }
   ],
   "source": [
    "\n",
    "def UsersRecommend(año):\n",
    "    # Filtrar las filas que corresponden al año dado\n",
    "    filtro = df3[df3['year'] == año]\n",
    "    \n",
    "    if filtro.empty:\n",
    "        return []  # No hay registros para el año dado\n",
    "    \n",
    "    # Ordenar las filas por la columna 'total_review' de manera descendente\n",
    "    filtro = filtro.sort_values(by='total_review', ascending=False)\n",
    "    \n",
    "    # Tomar las tres primeras filas como los juegos más recomendados\n",
    "    top_3_juegos = filtro.head(3)\n",
    "    \n",
    "    # Crear el resultado en una lista de diccionarios\n",
    "    resultado = []\n",
    "    for i, (_, juego) in enumerate(top_3_juegos.iterrows(), start=1):\n",
    "        resultado.append({f'Puesto {i}': juego['title']})\n",
    "    \n",
    "    return resultado\n",
    "\n",
    "año = 2013\n",
    "resultado = UsersRecommend(año)\n",
    "print(resultado)\n",
    "\n"
   ]
  },
  {
   "cell_type": "markdown",
   "metadata": {},
   "source": [
    "# 4. def UsersNotRecommend( año : int ): \n",
    "Devuelve el top 3 de juegos MENOS recomendados por usuarios para el año dado. (reviews.recommend = False y comentarios negativos)\n",
    "- Ejemplo de retorno: [{“Puesto 1” : X}, {“Puesto 2” : Y},{“Puesto 3” : Z}]\n",
    "    "
   ]
  },
  {
   "cell_type": "code",
   "execution_count": 39,
   "metadata": {},
   "outputs": [
    {
     "data": {
      "text/html": [
       "<div>\n",
       "<style scoped>\n",
       "    .dataframe tbody tr th:only-of-type {\n",
       "        vertical-align: middle;\n",
       "    }\n",
       "\n",
       "    .dataframe tbody tr th {\n",
       "        vertical-align: top;\n",
       "    }\n",
       "\n",
       "    .dataframe thead th {\n",
       "        text-align: right;\n",
       "    }\n",
       "</style>\n",
       "<table border=\"1\" class=\"dataframe\">\n",
       "  <thead>\n",
       "    <tr style=\"text-align: right;\">\n",
       "      <th></th>\n",
       "      <th>year</th>\n",
       "      <th>item_id</th>\n",
       "      <th>title</th>\n",
       "      <th>false_recommend_count</th>\n",
       "    </tr>\n",
       "  </thead>\n",
       "  <tbody>\n",
       "    <tr>\n",
       "      <th>0</th>\n",
       "      <td>2010</td>\n",
       "      <td>440</td>\n",
       "      <td>Team Fortress 2</td>\n",
       "      <td>1</td>\n",
       "    </tr>\n",
       "    <tr>\n",
       "      <th>1</th>\n",
       "      <td>2011</td>\n",
       "      <td>440</td>\n",
       "      <td>Team Fortress 2</td>\n",
       "      <td>2</td>\n",
       "    </tr>\n",
       "  </tbody>\n",
       "</table>\n",
       "</div>"
      ],
      "text/plain": [
       "   year  item_id            title  false_recommend_count\n",
       "0  2010      440  Team Fortress 2                      1\n",
       "1  2011      440  Team Fortress 2                      2"
      ]
     },
     "execution_count": 39,
     "metadata": {},
     "output_type": "execute_result"
    }
   ],
   "source": [
    "df4 = pd.read_csv(f_usernotrecommend)\n",
    "df4.head(2)"
   ]
  },
  {
   "cell_type": "code",
   "execution_count": 42,
   "metadata": {},
   "outputs": [
    {
     "name": "stdout",
     "output_type": "stream",
     "text": [
      "[{'Puesto 1': 'Counter-Strike: Source'}, {'Puesto 2': 'Team Fortress 2'}, {'Puesto 3': 'And Yet It Moves'}]\n"
     ]
    }
   ],
   "source": [
    "def UsersNotRecommend(año):\n",
    "    # Filtrar las filas que corresponden al año dado\n",
    "    filtro = df4[df4['year'] == año]\n",
    "    \n",
    "    if filtro.empty:\n",
    "        return []  # No hay registros para el año dado\n",
    "    \n",
    "    # Ordenar las filas por la columna 'false_recommend_count' de manera ascendente\n",
    "    filtro = filtro.sort_values(by='false_recommend_count', ascending=True)\n",
    "    \n",
    "    # Tomar las tres primeras filas como los juegos menos recomendados\n",
    "    top_3_juegos = filtro.head(3)\n",
    "    \n",
    "    # Crear el resultado en una lista de diccionarios\n",
    "    resultado = []\n",
    "    for i, (_, juego) in enumerate(top_3_juegos.iterrows(), start=1):\n",
    "        resultado.append({f'Puesto {i}': juego['title']})\n",
    "    \n",
    "    return resultado\n",
    "\n",
    "año = 2011\n",
    "resultado = UsersNotRecommend(año)\n",
    "print(resultado)\n"
   ]
  },
  {
   "cell_type": "markdown",
   "metadata": {},
   "source": [
    "# 5. def sentiment_analysis( año : int )\n",
    "Según el año de lanzamiento, se devuelve una lista con la cantidad de registros de reseñas de usuarios que se encuentren categorizados con un análisis de sentimiento.\n",
    "- Ejemplo de retorno: {Negative = 182, Neutral = 120, Positive = 278}"
   ]
  },
  {
   "cell_type": "code",
   "execution_count": 46,
   "metadata": {},
   "outputs": [
    {
     "data": {
      "text/html": [
       "<div>\n",
       "<style scoped>\n",
       "    .dataframe tbody tr th:only-of-type {\n",
       "        vertical-align: middle;\n",
       "    }\n",
       "\n",
       "    .dataframe tbody tr th {\n",
       "        vertical-align: top;\n",
       "    }\n",
       "\n",
       "    .dataframe thead th {\n",
       "        text-align: right;\n",
       "    }\n",
       "</style>\n",
       "<table border=\"1\" class=\"dataframe\">\n",
       "  <thead>\n",
       "    <tr style=\"text-align: right;\">\n",
       "      <th></th>\n",
       "      <th>year</th>\n",
       "      <th>Positivo</th>\n",
       "      <th>Negativo</th>\n",
       "      <th>Neutral</th>\n",
       "    </tr>\n",
       "  </thead>\n",
       "  <tbody>\n",
       "    <tr>\n",
       "      <th>0</th>\n",
       "      <td>2010</td>\n",
       "      <td>47</td>\n",
       "      <td>11</td>\n",
       "      <td>8</td>\n",
       "    </tr>\n",
       "    <tr>\n",
       "      <th>1</th>\n",
       "      <td>2011</td>\n",
       "      <td>361</td>\n",
       "      <td>93</td>\n",
       "      <td>57</td>\n",
       "    </tr>\n",
       "  </tbody>\n",
       "</table>\n",
       "</div>"
      ],
      "text/plain": [
       "   year  Positivo  Negativo  Neutral\n",
       "0  2010        47        11        8\n",
       "1  2011       361        93       57"
      ]
     },
     "execution_count": 46,
     "metadata": {},
     "output_type": "execute_result"
    }
   ],
   "source": [
    "df5 = pd.read_csv(f_sentiment)\n",
    "df5.head(2)"
   ]
  },
  {
   "cell_type": "code",
   "execution_count": 51,
   "metadata": {},
   "outputs": [
    {
     "name": "stdout",
     "output_type": "stream",
     "text": [
      "{'Negativos': 1287, 'Neutrales': 792, 'Positivos': 4216}\n"
     ]
    }
   ],
   "source": [
    "def sentiment_analysis(año):\n",
    "    # Filtrar las filas que corresponden al año dado\n",
    "    filtro = df5[df5['year'] == año]\n",
    "    \n",
    "    if filtro.empty:\n",
    "        return None  # No hay registros para el año dado\n",
    "    \n",
    "    # Contar la cantidad de registros en cada categoría de sentimiento\n",
    "    negativos = filtro['Negativo'].sum()\n",
    "    neutrales = filtro['Neutral'].sum()\n",
    "    positivos = filtro['Positivo'].sum()\n",
    "    \n",
    "    # Crear el resultado en un diccionario\n",
    "    resultado = {'Negativos': negativos, 'Neutrales': neutrales, 'Positivos': positivos}\n",
    "    return resultado\n",
    "\n",
    "\n",
    "año = 2013\n",
    "resultado = sentiment_analysis(año)\n",
    "print(resultado)\n"
   ]
  },
  {
   "cell_type": "markdown",
   "metadata": {},
   "source": [
    "# Corte"
   ]
  },
  {
   "cell_type": "code",
   "execution_count": null,
   "metadata": {},
   "outputs": [],
   "source": [
    "import numpy as np\n",
    "import pandas as pd\n",
    "import gdown\n",
    "\n",
    "# Descargar el archivo desde Google Drive\n",
    "file_id = '1-Eve6MwFsy1VyhsQB7gTRItzd1Rb8V4M'\n",
    "url = f'https://drive.google.com/uc?id={file_id}'\n",
    "Users = 'Users1.csv'\n",
    "gdown.download(url, Users, quiet=False)\n",
    "\n"
   ]
  }
 ],
 "metadata": {
  "kernelspec": {
   "display_name": "proyect1",
   "language": "python",
   "name": "python3"
  },
  "language_info": {
   "codemirror_mode": {
    "name": "ipython",
    "version": 3
   },
   "file_extension": ".py",
   "mimetype": "text/x-python",
   "name": "python",
   "nbconvert_exporter": "python",
   "pygments_lexer": "ipython3",
   "version": "3.11.2"
  },
  "orig_nbformat": 4
 },
 "nbformat": 4,
 "nbformat_minor": 2
}
