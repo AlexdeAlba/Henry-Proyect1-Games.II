{
 "cells": [
  {
   "cell_type": "markdown",
   "metadata": {},
   "source": [
    "# EDA (Exploratory Data Analysis)\n",
    "### Importación de los datos\n",
    "\n",
    "Como primer punto voy a guardar los 3 archivos json en un csv. para facilidad mia de procesamiento y premura de tiempo"
   ]
  },
  {
   "cell_type": "code",
   "execution_count": 1,
   "metadata": {},
   "outputs": [],
   "source": [
    "import json\n",
    "import pandas as pd"
   ]
  },
  {
   "cell_type": "markdown",
   "metadata": {},
   "source": [
    "## Archivo output_steam_games.json"
   ]
  },
  {
   "cell_type": "code",
   "execution_count": 4,
   "metadata": {},
   "outputs": [
    {
     "name": "stdout",
     "output_type": "stream",
     "text": [
      "El archivo no es un JSON válido.\n"
     ]
    }
   ],
   "source": [
    "file_json = 'data/output_steam_games.json'\n",
    "\n",
    "#Detecta si es un archivo JSON\n",
    "try:\n",
    "    with open(file_json, 'r') as archivo:\n",
    "        data_dict = json.load(archivo)\n",
    "    print(\"El archivo es un JSON válido.\")\n",
    "except json.JSONDecodeError:\n",
    "    print(\"El archivo no es un JSON válido.\")\n"
   ]
  },
  {
   "cell_type": "markdown",
   "metadata": {},
   "source": [
    "Al tratar de leerlo, me indica que no es un archivo JSON valido, por eso verificare linea por linea para corroborar cuales estan mal"
   ]
  },
  {
   "cell_type": "markdown",
   "metadata": {},
   "source": [
    "### Verificando el archivo que siga la estructura valida de json"
   ]
  },
  {
   "cell_type": "code",
   "execution_count": 5,
   "metadata": {},
   "outputs": [
    {
     "name": "stdout",
     "output_type": "stream",
     "text": [
      "Total de líneas o datos: 120445\n",
      "Líneas con formato JSON correcto: 120445\n",
      "Líneas con formato JSON incorrecto: 0\n"
     ]
    }
   ],
   "source": [
    "# Funcion para leer linea por linea y verificar la sintaxis\n",
    "def verificar_formato_json(archivo):\n",
    "    lineas_correctas = 0\n",
    "    lineas_incorrectas = []\n",
    "    \n",
    "    with open(archivo, 'r') as file:\n",
    "        for linea_numero, linea in enumerate(file, start=1):\n",
    "            try:\n",
    "                json.loads(linea)\n",
    "                lineas_correctas += 1\n",
    "            except json.JSONDecodeError as e:\n",
    "                lineas_incorrectas.append((linea_numero, linea, str(e)))\n",
    "    \n",
    "    total_lineas = lineas_correctas + len(lineas_incorrectas)\n",
    "    \n",
    "    return total_lineas, lineas_correctas, lineas_incorrectas\n",
    "\n",
    "\n",
    "total, correctas, incorrectas = verificar_formato_json(file_json)\n",
    "\n",
    "print(f\"Total de líneas o datos: {total}\")\n",
    "print(f\"Líneas con formato JSON correcto: {correctas}\")\n",
    "print(f\"Líneas con formato JSON incorrecto: {len(incorrectas)}\")\n",
    "\n",
    "# Recorre las lineas del archivo\n",
    "for numero, linea, error in incorrectas:\n",
    "    print(f\"Error en la línea {numero}: {error}\")\n",
    "    # También puedes imprimir la línea incorrecta si deseas\n",
    "    # print(f\"Línea {numero}: {linea}\")\n"
   ]
  },
  {
   "cell_type": "markdown",
   "metadata": {},
   "source": [
    "Aparenta que las lineas están bien, asi que creo que es la enmarcación, pero de todas maneras prefiero leer linea por linea y cargalos en una lista y luego en el DF"
   ]
  },
  {
   "cell_type": "code",
   "execution_count": 6,
   "metadata": {},
   "outputs": [
    {
     "data": {
      "text/html": [
       "<div>\n",
       "<style scoped>\n",
       "    .dataframe tbody tr th:only-of-type {\n",
       "        vertical-align: middle;\n",
       "    }\n",
       "\n",
       "    .dataframe tbody tr th {\n",
       "        vertical-align: top;\n",
       "    }\n",
       "\n",
       "    .dataframe thead th {\n",
       "        text-align: right;\n",
       "    }\n",
       "</style>\n",
       "<table border=\"1\" class=\"dataframe\">\n",
       "  <thead>\n",
       "    <tr style=\"text-align: right;\">\n",
       "      <th></th>\n",
       "      <th>publisher</th>\n",
       "      <th>genres</th>\n",
       "      <th>app_name</th>\n",
       "      <th>title</th>\n",
       "      <th>url</th>\n",
       "      <th>release_date</th>\n",
       "      <th>tags</th>\n",
       "      <th>reviews_url</th>\n",
       "      <th>specs</th>\n",
       "      <th>price</th>\n",
       "      <th>early_access</th>\n",
       "      <th>id</th>\n",
       "      <th>developer</th>\n",
       "    </tr>\n",
       "  </thead>\n",
       "  <tbody>\n",
       "    <tr>\n",
       "      <th>0</th>\n",
       "      <td>NaN</td>\n",
       "      <td>NaN</td>\n",
       "      <td>NaN</td>\n",
       "      <td>NaN</td>\n",
       "      <td>NaN</td>\n",
       "      <td>NaN</td>\n",
       "      <td>NaN</td>\n",
       "      <td>NaN</td>\n",
       "      <td>NaN</td>\n",
       "      <td>NaN</td>\n",
       "      <td>NaN</td>\n",
       "      <td>NaN</td>\n",
       "      <td>NaN</td>\n",
       "    </tr>\n",
       "    <tr>\n",
       "      <th>1</th>\n",
       "      <td>NaN</td>\n",
       "      <td>NaN</td>\n",
       "      <td>NaN</td>\n",
       "      <td>NaN</td>\n",
       "      <td>NaN</td>\n",
       "      <td>NaN</td>\n",
       "      <td>NaN</td>\n",
       "      <td>NaN</td>\n",
       "      <td>NaN</td>\n",
       "      <td>NaN</td>\n",
       "      <td>NaN</td>\n",
       "      <td>NaN</td>\n",
       "      <td>NaN</td>\n",
       "    </tr>\n",
       "    <tr>\n",
       "      <th>2</th>\n",
       "      <td>NaN</td>\n",
       "      <td>NaN</td>\n",
       "      <td>NaN</td>\n",
       "      <td>NaN</td>\n",
       "      <td>NaN</td>\n",
       "      <td>NaN</td>\n",
       "      <td>NaN</td>\n",
       "      <td>NaN</td>\n",
       "      <td>NaN</td>\n",
       "      <td>NaN</td>\n",
       "      <td>NaN</td>\n",
       "      <td>NaN</td>\n",
       "      <td>NaN</td>\n",
       "    </tr>\n",
       "  </tbody>\n",
       "</table>\n",
       "</div>"
      ],
      "text/plain": [
       "  publisher genres app_name title  url release_date tags reviews_url specs  \\\n",
       "0       NaN    NaN      NaN   NaN  NaN          NaN  NaN         NaN   NaN   \n",
       "1       NaN    NaN      NaN   NaN  NaN          NaN  NaN         NaN   NaN   \n",
       "2       NaN    NaN      NaN   NaN  NaN          NaN  NaN         NaN   NaN   \n",
       "\n",
       "  price early_access   id developer  \n",
       "0   NaN          NaN  NaN       NaN  \n",
       "1   NaN          NaN  NaN       NaN  \n",
       "2   NaN          NaN  NaN       NaN  "
      ]
     },
     "metadata": {},
     "output_type": "display_data"
    }
   ],
   "source": [
    "# Inicializa una lista para almacenar los objetos JSON\n",
    "lista_datos = []\n",
    "\n",
    "with open(file_json, 'r') as file:\n",
    "    for linea in file:\n",
    "        try:\n",
    "            objeto_json = json.loads(linea)\n",
    "            lista_datos.append(objeto_json)\n",
    "        except json.JSONDecodeError as e:\n",
    "            print(f\"Error al cargar una línea: {str(e)}\")\n",
    "\n",
    "# Carga la lista de objetos JSON en un DataFrame\n",
    "df = pd.DataFrame(lista_datos)\n",
    "\n",
    "display(df.head(3))\n"
   ]
  },
  {
   "cell_type": "markdown",
   "metadata": {},
   "source": [
    "Guardardar los datos en un CSV"
   ]
  },
  {
   "cell_type": "code",
   "execution_count": 7,
   "metadata": {},
   "outputs": [],
   "source": [
    "# Guardar el DataFrame en un archivo CSV\n",
    "df.to_csv('data//Steam-Games.csv', index=False) "
   ]
  },
  {
   "cell_type": "markdown",
   "metadata": {},
   "source": [
    "## Archivo australian_user_reviews.json"
   ]
  },
  {
   "cell_type": "code",
   "execution_count": 8,
   "metadata": {},
   "outputs": [
    {
     "name": "stdout",
     "output_type": "stream",
     "text": [
      "El archivo no es un JSON válido.\n"
     ]
    }
   ],
   "source": [
    "file_json = 'data/australian_user_reviews.json'\n",
    "\n",
    "#Detecta si es un archivo JSON\n",
    "try:\n",
    "    with open(file_json, 'r', encoding='utf-8') as archivo:\n",
    "        data_dict = json.load(archivo)\n",
    "    print(\"El archivo es un JSON válido.\")\n",
    "except json.JSONDecodeError:\n",
    "    print(\"El archivo no es un JSON válido.\")"
   ]
  },
  {
   "cell_type": "code",
   "execution_count": 9,
   "metadata": {},
   "outputs": [
    {
     "name": "stdout",
     "output_type": "stream",
     "text": [
      "Total de líneas o registros: 25799\n",
      "Registros leídos correctamente: 25799\n",
      "Registros mal leídos en líneas: []\n"
     ]
    }
   ],
   "source": [
    "# Listas para almacenar los diccionarios y los números de línea con errores\n",
    "data_list = []\n",
    "lineas_con_errores = []\n",
    "\n",
    "# Contadores para el total de líneas y registros leídos correctamente\n",
    "total_lineas = 0\n",
    "registros_correctos = 0\n",
    "\n",
    "# Abrir el archivo y leerlo línea por línea\n",
    "with open(file_json, 'r', encoding='utf-8') as archivo:\n",
    "    for num_linea, linea in enumerate(archivo, start=1):\n",
    "        total_lineas += 1\n",
    "        try:\n",
    "            # Intentar cargar la línea como JSON\n",
    "            data = json.loads(linea)\n",
    "            data_list.append(data)\n",
    "            registros_correctos += 1\n",
    "        except json.JSONDecodeError:\n",
    "            try:\n",
    "                # Si falla como JSON, intentar cargarlo como diccionario\n",
    "                data = eval(linea)  # Usa eval para interpretar la línea como un diccionario\n",
    "                if isinstance(data, dict):\n",
    "                    data_list.append(data)\n",
    "                    registros_correctos += 1\n",
    "                else:\n",
    "                    lineas_con_errores.append(num_linea)\n",
    "            except Exception as e:\n",
    "                lineas_con_errores.append(num_linea)\n",
    "\n",
    "# Crear un DataFrame a partir de la lista de diccionarios\n",
    "df = pd.DataFrame(data_list)\n",
    "\n",
    "# Imprimir los resultados\n",
    "print(f'Total de líneas o registros: {total_lineas}')\n",
    "print(f'Registros leídos correctamente: {registros_correctos}')\n",
    "print(f'Registros mal leídos en líneas: {lineas_con_errores}')\n"
   ]
  },
  {
   "cell_type": "markdown",
   "metadata": {},
   "source": [
    "Guardardar los datos en un CSV"
   ]
  },
  {
   "cell_type": "code",
   "execution_count": 10,
   "metadata": {},
   "outputs": [],
   "source": [
    "# Guardar el DataFrame en un archivo CSV\n",
    "df.to_csv('data//Reviews.csv', index=False) "
   ]
  },
  {
   "cell_type": "markdown",
   "metadata": {},
   "source": [
    "# Archivo australian_users_items.json"
   ]
  },
  {
   "cell_type": "code",
   "execution_count": 4,
   "metadata": {},
   "outputs": [
    {
     "name": "stdout",
     "output_type": "stream",
     "text": [
      "El archivo no es un JSON válido.\n"
     ]
    }
   ],
   "source": [
    "import pandas as pd\n",
    "import json\n",
    "\n",
    "file_json = 'data/australian_users_items.json'\n",
    "\n",
    "#Detecta si es un archivo JSON\n",
    "try:\n",
    "    with open(file_json, 'r', encoding='utf-8') as archivo:\n",
    "        data_dict = json.load(archivo)\n",
    "    print(\"El archivo es un JSON válido.\")\n",
    "except json.JSONDecodeError:\n",
    "    print(\"El archivo no es un JSON válido.\")"
   ]
  },
  {
   "cell_type": "code",
   "execution_count": 5,
   "metadata": {},
   "outputs": [
    {
     "name": "stdout",
     "output_type": "stream",
     "text": [
      "Total de líneas o registros: 88310\n",
      "Registros leídos correctamente: 88310\n",
      "Registros mal leídos en líneas: []\n"
     ]
    }
   ],
   "source": [
    "# Listas para almacenar los diccionarios y los números de línea con errores\n",
    "data_list = []\n",
    "lineas_con_errores = []\n",
    "\n",
    "# Contadores para el total de líneas y registros leídos correctamente\n",
    "total_lineas = 0\n",
    "registros_correctos = 0\n",
    "\n",
    "# Abrir el archivo y leerlo línea por línea\n",
    "with open(file_json, 'r', encoding='utf-8') as archivo:\n",
    "    for num_linea, linea in enumerate(archivo, start=1):\n",
    "        total_lineas += 1\n",
    "        try:\n",
    "            # Intentar cargar la línea como JSON\n",
    "            data = json.loads(linea)\n",
    "            data_list.append(data)\n",
    "            registros_correctos += 1\n",
    "        except json.JSONDecodeError:\n",
    "            try:\n",
    "                # Si falla como JSON, intentar cargarlo como diccionario\n",
    "                data = eval(linea)  # Usa eval para interpretar la línea como un diccionario\n",
    "                if isinstance(data, dict):\n",
    "                    data_list.append(data)\n",
    "                    registros_correctos += 1\n",
    "                else:\n",
    "                    lineas_con_errores.append(num_linea)\n",
    "            except Exception as e:\n",
    "                lineas_con_errores.append(num_linea)\n",
    "\n",
    "# Crear un DataFrame a partir de la lista de diccionarios\n",
    "df = pd.DataFrame(data_list)\n",
    "\n",
    "# Imprimir los resultados\n",
    "print(f'Total de líneas o registros: {total_lineas}')\n",
    "print(f'Registros leídos correctamente: {registros_correctos}')\n",
    "print(f'Registros mal leídos en líneas: {lineas_con_errores}')"
   ]
  },
  {
   "cell_type": "markdown",
   "metadata": {},
   "source": [
    "Guardardar los datos en un CSV"
   ]
  },
  {
   "cell_type": "code",
   "execution_count": 7,
   "metadata": {},
   "outputs": [
    {
     "data": {
      "text/html": [
       "<div>\n",
       "<style scoped>\n",
       "    .dataframe tbody tr th:only-of-type {\n",
       "        vertical-align: middle;\n",
       "    }\n",
       "\n",
       "    .dataframe tbody tr th {\n",
       "        vertical-align: top;\n",
       "    }\n",
       "\n",
       "    .dataframe thead th {\n",
       "        text-align: right;\n",
       "    }\n",
       "</style>\n",
       "<table border=\"1\" class=\"dataframe\">\n",
       "  <thead>\n",
       "    <tr style=\"text-align: right;\">\n",
       "      <th></th>\n",
       "      <th>user_id</th>\n",
       "      <th>items_count</th>\n",
       "      <th>steam_id</th>\n",
       "      <th>user_url</th>\n",
       "      <th>items</th>\n",
       "    </tr>\n",
       "  </thead>\n",
       "  <tbody>\n",
       "    <tr>\n",
       "      <th>0</th>\n",
       "      <td>76561197970982479</td>\n",
       "      <td>277</td>\n",
       "      <td>76561197970982479</td>\n",
       "      <td>http://steamcommunity.com/profiles/76561197970...</td>\n",
       "      <td>[{'item_id': '10', 'item_name': 'Counter-Strik...</td>\n",
       "    </tr>\n",
       "    <tr>\n",
       "      <th>1</th>\n",
       "      <td>js41637</td>\n",
       "      <td>888</td>\n",
       "      <td>76561198035864385</td>\n",
       "      <td>http://steamcommunity.com/id/js41637</td>\n",
       "      <td>[{'item_id': '10', 'item_name': 'Counter-Strik...</td>\n",
       "    </tr>\n",
       "    <tr>\n",
       "      <th>2</th>\n",
       "      <td>evcentric</td>\n",
       "      <td>137</td>\n",
       "      <td>76561198007712555</td>\n",
       "      <td>http://steamcommunity.com/id/evcentric</td>\n",
       "      <td>[{'item_id': '1200', 'item_name': 'Red Orchest...</td>\n",
       "    </tr>\n",
       "  </tbody>\n",
       "</table>\n",
       "</div>"
      ],
      "text/plain": [
       "             user_id  items_count           steam_id  \\\n",
       "0  76561197970982479          277  76561197970982479   \n",
       "1            js41637          888  76561198035864385   \n",
       "2          evcentric          137  76561198007712555   \n",
       "\n",
       "                                            user_url  \\\n",
       "0  http://steamcommunity.com/profiles/76561197970...   \n",
       "1               http://steamcommunity.com/id/js41637   \n",
       "2             http://steamcommunity.com/id/evcentric   \n",
       "\n",
       "                                               items  \n",
       "0  [{'item_id': '10', 'item_name': 'Counter-Strik...  \n",
       "1  [{'item_id': '10', 'item_name': 'Counter-Strik...  \n",
       "2  [{'item_id': '1200', 'item_name': 'Red Orchest...  "
      ]
     },
     "metadata": {},
     "output_type": "display_data"
    },
    {
     "name": "stdout",
     "output_type": "stream",
     "text": [
      "Total de registros:  88310\n"
     ]
    }
   ],
   "source": [
    "display(df.head(3))\n",
    "# Guardar el DataFrame en un archivo CSV\n",
    "df.to_csv('data//Items.csv', index=False) \n",
    "total = len(df)\n",
    "print(\"Total de registros: \",total)"
   ]
  }
 ],
 "metadata": {
  "kernelspec": {
   "display_name": "Python 3",
   "language": "python",
   "name": "python3"
  },
  "language_info": {
   "codemirror_mode": {
    "name": "ipython",
    "version": 3
   },
   "file_extension": ".py",
   "mimetype": "text/x-python",
   "name": "python",
   "nbconvert_exporter": "python",
   "pygments_lexer": "ipython3",
   "version": "3.11.2"
  },
  "orig_nbformat": 4
 },
 "nbformat": 4,
 "nbformat_minor": 2
}
